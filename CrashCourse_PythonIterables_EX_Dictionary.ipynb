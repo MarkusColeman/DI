{
  "nbformat": 4,
  "nbformat_minor": 0,
  "metadata": {
    "colab": {
      "provenance": [],
      "authorship_tag": "ABX9TyPnYTV9/gaCFTzHAZ4hs6p9",
      "include_colab_link": true
    },
    "kernelspec": {
      "name": "python3",
      "display_name": "Python 3"
    },
    "language_info": {
      "name": "python"
    }
  },
  "cells": [
    {
      "cell_type": "markdown",
      "metadata": {
        "id": "view-in-github",
        "colab_type": "text"
      },
      "source": [
        "<a href=\"https://colab.research.google.com/github/MarkusColeman/DI/blob/main/CrashCourse_PythonIterables_EX_Dictionary.ipynb\" target=\"_parent\"><img src=\"https://colab.research.google.com/assets/colab-badge.svg\" alt=\"Open In Colab\"/></a>"
      ]
    },
    {
      "cell_type": "code",
      "execution_count": 1,
      "metadata": {
        "colab": {
          "base_uri": "https://localhost:8080/"
        },
        "id": "-NRF-FawQNQ6",
        "outputId": "ef0d7749-21f9-4ce7-f019-d3d3a3450932"
      },
      "outputs": [
        {
          "output_type": "stream",
          "name": "stdout",
          "text": [
            "{'name': 'Elie', 'job': 'Instructor'}\n",
            "{'CA': 'California', 'NJ': 'New Jersey', 'RI': 'Rhode Island'}\n",
            "{'a': 0, 'e': 0, 'i': 0, 'o': 0, 'u': 0}\n",
            "{1: 'a', 2: 'b', 3: 'c', 4: 'd', 5: 'e', 6: 'f', 7: 'g', 8: 'h', 9: 'i', 10: 'j', 11: 'k', 12: 'l', 13: 'm', 14: 'n', 15: 'o', 16: 'p', 17: 'q', 18: 'r', 19: 's', 20: 't', 21: 'u', 22: 'v', 23: 'w', 24: 'x', 25: 'y', 26: 'z'}\n",
            "{'a': 2, 'e': 3, 'i': 0, 'o': 1, 'u': 1}\n"
          ]
        }
      ],
      "source": [
        "#(1) Given a list: [(\"name\", \"Elie\"), (\"job\", \"Instructor\")], create a dictionary that looks like this: {'job': 'Instructor', 'name': 'Elie'} (Note: The order does not matter).\n",
        "about = dict([(\"name\", \"Elie\"), (\"job\", \"Instructor\")])\n",
        "print(about)\n",
        "#(2)Given two lists: [\"CA\", \"NJ\", \"RI\"] and [\"California\", \"New Jersey\", \"Rhode Island\"], return a dictionary that looks like this: {'CA': 'California', 'NJ': 'New Jersey', 'RI': 'Rhode Island'}.\n",
        "abbreviations=[\"CA\", \"NJ\", \"RI\"]\n",
        "state_name=[\"California\", \"New Jersey\", \"Rhode Island\"]\n",
        "states= dict(zip(abbreviations, state_name))\n",
        "print(states)\n",
        "#(3)Create a dictionary where the keys are vowels in the alphabet and the values are 0. Your dictionary should look like this: {'a': 0, 'e': 0, 'i': 0, 'o': 0, 'u': 0}. (Do not use the fromkeys method).\n",
        "vowels = [\"a\", \"e\", \"i\", \"o\", \"u\"]\n",
        "new_vowels={vowel: 0 for vowel in vowels}\n",
        "print(new_vowels)\n",
        "#(4)Create a dictionary where the key is the position of the letter in the alphabet, and the value is the letter itself. You should return something like this:\n",
        "\n",
        "{1: 'A',\n",
        " 2: 'B',\n",
        " 3: 'C',\n",
        " 4: 'D',\n",
        " 5: 'E',\n",
        " 6: 'F',\n",
        " 7: 'G',\n",
        " 8: 'H',\n",
        " 9: 'I',\n",
        " 10: 'J',\n",
        " 11: 'K',\n",
        " 12: 'L',\n",
        " 13: 'M',\n",
        " 14: 'N',\n",
        " 15: 'O',\n",
        " 16: 'P',\n",
        " 17: 'Q',\n",
        " 18: 'R',\n",
        " 19: 'S',\n",
        " 20: 'T',\n",
        " 21: 'U',\n",
        " 22: 'V',\n",
        " 23: 'W',\n",
        " 24: 'X',\n",
        " 25: 'Y',\n",
        " 26: 'Z'}\n",
        "\n",
        "alphabet='abcdefghijklmnopqrstuvwxyz'\n",
        "alphabet_dict ={index: letter for index, letter in enumerate(alphabet, start=1)}\n",
        "print(alphabet_dict)\n",
        "\n",
        "#Super Bonus: Given the string \"awesome sauce\", return a dictionary where the keys are vowels, and the values are the count of each vowel in the string. Your dictionary should look like this: {'a': 2, 'e': 3, 'i': 0, 'o': 1, 'u': 1}.\n",
        "\n",
        "string= \"awesome sauce\"\n",
        "vowels_2 = [\"a\", \"e\", \"i\", \"o\", \"u\"]\n",
        "vowel_count = {vowel: string.count(vowel) for vowel in vowels_2}\n",
        "print(vowel_count)\n",
        "\n",
        "\n",
        "\n",
        "\n",
        "\n",
        "\n",
        "\n"
      ]
    }
  ]
}