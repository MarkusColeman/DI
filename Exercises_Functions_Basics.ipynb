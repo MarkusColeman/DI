{
  "nbformat": 4,
  "nbformat_minor": 0,
  "metadata": {
    "colab": {
      "provenance": [],
      "authorship_tag": "ABX9TyOkrRTTipt3SVRqFUfHOSt7",
      "include_colab_link": true
    },
    "kernelspec": {
      "name": "python3",
      "display_name": "Python 3"
    },
    "language_info": {
      "name": "python"
    }
  },
  "cells": [
    {
      "cell_type": "markdown",
      "metadata": {
        "id": "view-in-github",
        "colab_type": "text"
      },
      "source": [
        "<a href=\"https://colab.research.google.com/github/MarkusColeman/DI/blob/main/Exercises_Functions_Basics.ipynb\" target=\"_parent\"><img src=\"https://colab.research.google.com/assets/colab-badge.svg\" alt=\"Open In Colab\"/></a>"
      ]
    },
    {
      "cell_type": "code",
      "execution_count": 12,
      "metadata": {
        "colab": {
          "base_uri": "https://localhost:8080/"
        },
        "id": "6VFFw8tcdrbl",
        "outputId": "ffeb86f2-f6e5-42ff-e42b-163b6d076391"
      },
      "outputs": [
        {
          "output_type": "stream",
          "name": "stdout",
          "text": [
            "200\n",
            "Hello David!\n",
            "Odd\n",
            "10\n",
            "Sunday\n",
            "Monday\n",
            "Tuesday\n",
            "Wednesday\n",
            "Thursday\n",
            "Friday\n",
            "Saturday\n",
            "negative\n",
            "Happy Happy Happy Happy \n"
          ]
        }
      ],
      "source": [
        "#Exercise 1 : Add Two Numbers\n",
        "# Write a function add_two_numbers that takes two numbers as parameters and returns their sum.\n",
        "def add_two_numbers(N1, N2):\n",
        "    return N1 + N2\n",
        "print(add_two_numbers(100, 100))\n",
        "\n",
        "\n",
        "#Exercise 2 : Print a Greeting\n",
        "#Write a function greet that takes one parameter, a person’s name, and prints a greeting message like “Hello, [name]!”\n",
        "def greet (name):\n",
        "  return f'Hello {name}!'\n",
        "print (greet('David'))\n",
        "\n",
        "#Exercise 3 : Check if Number is Even or Odd\n",
        "#Write a function check_even_odd that takes one number and prints “Even” if the number is even, and “Odd” if the number is odd.\n",
        "def check_even_odd(number):\n",
        "  if number %2==0:\n",
        "    return \"Even\"\n",
        "  else:\n",
        "    return \"Odd\"\n",
        "print(check_even_odd(1))\n",
        "\n",
        "#Exercise 4 : Sum of Numbers in a List\n",
        "#Write a function sum_list that takes a list of numbers as a parameter and returns the sum of all numbers in the list.\n",
        "def sum_list(digits):\n",
        "  total=0\n",
        "  for digit in digits:\n",
        "      total += digit\n",
        "  return total\n",
        "digits=[1,2,3,4]\n",
        "print(sum_list(digits))\n",
        "\n",
        "#Exercise 5 : Print Days of the Week\n",
        "#Write a function print_days that prints the days of the week (Sunday, Monday, Tuesday, etc.) using a loop.\n",
        "def print_days(days):\n",
        "  for day in days:\n",
        "    print(day)\n",
        "week= ['Sunday', 'Monday','Tuesday','Wednesday', 'Thursday','Friday','Saturday']\n",
        "print_days(week)\n",
        "\n",
        "#Exercise 6 : Check if Number is Positive, Negative, or Zero\n",
        "#Write a function check_sign that takes a number and prints whether the number is positive, negative, or zero.\n",
        "def check_sign(number):\n",
        "  if number > 0:\n",
        "    return \"positive\"\n",
        "  elif number < 0:\n",
        "    return \"negative\"\n",
        "  else:\n",
        "    return \"zero\"\n",
        "print(check_sign(-7))\n",
        "\n",
        "#Exercise 7 : Repeat a Word\n",
        "#Write a function repeat_word that takes a word and a number as parameters and prints the word that many times.\n",
        "def repeat_word(word, number):\n",
        "  return word * number\n",
        "print(repeat_word(\"Happy \", 4))"
      ]
    }
  ]
}