{
  "nbformat": 4,
  "nbformat_minor": 0,
  "metadata": {
    "colab": {
      "provenance": [],
      "authorship_tag": "ABX9TyM2TQ8thj5Qwpvy3pjfh54V",
      "include_colab_link": true
    },
    "kernelspec": {
      "name": "python3",
      "display_name": "Python 3"
    },
    "language_info": {
      "name": "python"
    }
  },
  "cells": [
    {
      "cell_type": "markdown",
      "metadata": {
        "id": "view-in-github",
        "colab_type": "text"
      },
      "source": [
        "<a href=\"https://colab.research.google.com/github/MarkusColeman/DI/blob/main/CrashCourse_Exercises_Functions_Intermediate.ipynb\" target=\"_parent\"><img src=\"https://colab.research.google.com/assets/colab-badge.svg\" alt=\"Open In Colab\"/></a>"
      ]
    },
    {
      "cell_type": "code",
      "execution_count": 11,
      "metadata": {
        "colab": {
          "base_uri": "https://localhost:8080/"
        },
        "id": "HhulNZbPMIHE",
        "outputId": "6520dea4-4329-4834-b564-86ce6d75a53d"
      },
      "outputs": [
        {
          "output_type": "stream",
          "name": "stdout",
          "text": [
            "33\n",
            "True\n",
            "1\n",
            "2\n",
            "3\n",
            "4\n",
            "5\n",
            "6\n",
            "7\n",
            "8\n",
            "9\n",
            "10\n"
          ]
        }
      ],
      "source": [
        "#Exercise 1 : Return the Largest Number\n",
        "#Write a function find_largest that takes a list of numbers and returns the largest number in the list.\n",
        "def find_largest(numbers):\n",
        "    return max(numbers)\n",
        "numbers = [10, 25, 33, 2, 5, 6, 7]\n",
        "print(find_largest(numbers))\n",
        "\n",
        "#Exercise 2 : Check for Letter in Word\n",
        "#Write a function check_letter that takes a word and a letter as parameters and checks if the letter is in the word. It should return True if the letter is found and False if not.\n",
        "def check_letter(word, letter):\n",
        "  if letter in word:\n",
        "    return True\n",
        "  else:\n",
        "    return False\n",
        "print(check_letter(\"Motorcycle\", \"y\"))\n",
        "\n",
        "#Exercise 3 : Count to a Number\n",
        "#Write a function count_to_number that takes a number as a parameter and prints all numbers from 1 to that number.\n",
        "def count_to_number(digit):\n",
        "  for num in range(1, digit+1):\n",
        "    print(num)\n",
        "count_to_number(10)\n"
      ]
    }
  ]
}