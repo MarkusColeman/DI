{
  "nbformat": 4,
  "nbformat_minor": 0,
  "metadata": {
    "colab": {
      "provenance": [],
      "authorship_tag": "ABX9TyMigfZPxhPsl4G+2rHSxYCn",
      "include_colab_link": true
    },
    "kernelspec": {
      "name": "python3",
      "display_name": "Python 3"
    },
    "language_info": {
      "name": "python"
    }
  },
  "cells": [
    {
      "cell_type": "markdown",
      "metadata": {
        "id": "view-in-github",
        "colab_type": "text"
      },
      "source": [
        "<a href=\"https://colab.research.google.com/github/MarkusColeman/DI/blob/main/Crashcourse_PythonIntro_XP_E1.ipynb\" target=\"_parent\"><img src=\"https://colab.research.google.com/assets/colab-badge.svg\" alt=\"Open In Colab\"/></a>"
      ]
    },
    {
      "cell_type": "code",
      "execution_count": 17,
      "metadata": {
        "colab": {
          "base_uri": "https://localhost:8080/"
        },
        "id": "MI6rQBchu864",
        "outputId": "aa60161f-7fd1-412e-90ff-efa4fb74af82"
      },
      "outputs": [
        {
          "output_type": "stream",
          "name": "stdout",
          "text": [
            "I AM A COMPUTER!\n",
            "Math is fun.\n",
            "False\n",
            "16\n",
            "I AM A STRING\n",
            "1000\n",
            "4real\n",
            "coolcoolcool\n",
            "Dividing by zero is undefined and results in a ZeroDivisionError.\n",
            "<class 'list'>\n",
            "What is your name? Markus\n",
            "Hello Markus\n",
            "Pick a number: 1\n",
            "That number is greater than 0!\n",
            "3\n",
            "True\n",
            "True\n"
          ]
        }
      ],
      "source": [
        "#(1) Declare a variable called first and assign it to the value \"Hello World\"\n",
        "first = \"Hello World\"\n",
        "#(2) Write a comment that says \"This is a comment.\"\n",
        "#this is a comment.\n",
        "#(3) Log a message to the terminal that says \"I AM A COMPUTER!\"\n",
        "print(\"I AM A COMPUTER!\")\n",
        "#(4)Write an if statement that checks if 1 is less than 2 and if 4 is greater than 2. If it is, show the message \"Math is fun.\"\n",
        "if 1 < 2 and 4 > 2:\n",
        "  print(\"Math is fun.\")\n",
        "#(5) Assign a variable called nope to an absence of value\n",
        "nope = None\n",
        "#(6) Use the language’s “and” boolean operator to combine the language’s “true” value with its “false” value\n",
        "print(True and False)\n",
        "#(7) Calculate the length of the string \"What's my length?\"\n",
        "print(len(\"What's my Length\"))\n",
        "#(8) Convert the string \"i am shouting\" to uppercase\n",
        "string = \"i am a string\"\n",
        "print(string.upper())\n",
        "#(9) Convert the string \"1000\"to the number 1000\n",
        "string = \"1000\"\n",
        "number = int(string)\n",
        "print(number)\n",
        "#(10) Combine the number 4 with the string \"real\" to produce \"4real\"\n",
        "print(str(4)+\"real\")\n",
        "#(11) Record the output of the expression 3 * \"cool\"\n",
        "print(3 * \"cool\")\n",
        "#(12) Record the output of the expression 1 / 0\n",
        "print(\"Dividing by zero is undefined and results in a ZeroDivisionError.\")\n",
        "#(13) Determine the type of []\n",
        "print(type([1, 2, 3]))\n",
        "#(14)Ask the user for their name, and store it in a variable called name\n",
        "name = input(\"What is your name? \")\n",
        "print(\"Hello \" + name)\n",
        "#(15) Ask the user for a number. If the number is negative, show a message that says \"That number is less than 0!\" If the number is positive, show a message that says \"That number is greater than 0!\" Otherwise, show a message that says \"You picked 0!\"\n",
        "number = int(input (\"Pick a number: \"))\n",
        "if number < 0:\n",
        "  print(\"That number is less than 0!\")\n",
        "elif number > 0:\n",
        "  print(\"That number is greater than 0!\")\n",
        "else:\n",
        "  print(\"You picked 0!\")\n",
        "#(16) Find the index of \"l\" in \"apple\"\n",
        "print(\"apple\".index(\"l\"))\n",
        "#(17) Check whether \"y\" is in \"xylophone\"\n",
        "print(\"y\" in \"xylophone\")\n",
        "#(18) Check whether a string called my_string is all in lowercase\n",
        "print(\"my_string\".islower())"
      ]
    }
  ]
}