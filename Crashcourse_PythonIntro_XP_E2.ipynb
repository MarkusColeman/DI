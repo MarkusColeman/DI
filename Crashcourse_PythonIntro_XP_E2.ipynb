{
  "nbformat": 4,
  "nbformat_minor": 0,
  "metadata": {
    "colab": {
      "provenance": [],
      "authorship_tag": "ABX9TyMDA+3Ra56hIU98zQx71VA6",
      "include_colab_link": true
    },
    "kernelspec": {
      "name": "python3",
      "display_name": "Python 3"
    },
    "language_info": {
      "name": "python"
    }
  },
  "cells": [
    {
      "cell_type": "markdown",
      "metadata": {
        "id": "view-in-github",
        "colab_type": "text"
      },
      "source": [
        "<a href=\"https://colab.research.google.com/github/MarkusColeman/DI/blob/main/Crashcourse_PythonIntro_XP_E2.ipynb\" target=\"_parent\"><img src=\"https://colab.research.google.com/assets/colab-badge.svg\" alt=\"Open In Colab\"/></a>"
      ]
    },
    {
      "cell_type": "code",
      "execution_count": 26,
      "metadata": {
        "colab": {
          "base_uri": "https://localhost:8080/"
        },
        "id": "zJGhLM-_mADu",
        "outputId": "11836d8a-d810-4490-9aad-b13c3d2c9a78"
      },
      "outputs": [
        {
          "output_type": "stream",
          "name": "stdout",
          "text": [
            "[10, 56, 64]\n",
            "[1, 15, 15]\n",
            "[2, 24, 24]\n"
          ]
        }
      ],
      "source": [
        "# creating a function to calculate cat and dog years based on # of human years\n",
        "def petYears(humanYears):\n",
        "  # initializing cat and dog years; set to 0\n",
        "  catYears = 0\n",
        "  dogYears = 0\n",
        "  # 1 human year equates to 15 years for both cats and dogs\n",
        "  if humanYears == 1:\n",
        "    catYears = 15\n",
        "    dogYears = 15\n",
        "  # for 2 human years: +9 years for both cat and dogs (24 years)\n",
        "  elif humanYears==2:\n",
        "    catYears = 24\n",
        "    dogYears = 24\n",
        "  else:\n",
        "    catYears = 24\n",
        "    dogYears = 24\n",
        "  # for loop to add 4 catYears and  5 dogYears to each year after 3rd humanYear\n",
        "  for year in range(3, humanYears+ 1): # range: (starts at 3 and ends at 9 + 1)\n",
        "    catYears += 4\n",
        "    dogYears += 5\n",
        "  # returning the results of this function\n",
        "  return [humanYears,catYears,dogYears]\n",
        "#testing program with different values: human_years = (10),(1), and (2)\n",
        "print (petYears(10))\n",
        "print (petYears(1))\n",
        "print (petYears(2))\n"
      ]
    }
  ]
}