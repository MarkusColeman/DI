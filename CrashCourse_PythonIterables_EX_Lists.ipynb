{
  "nbformat": 4,
  "nbformat_minor": 0,
  "metadata": {
    "colab": {
      "provenance": [],
      "authorship_tag": "ABX9TyOVGTIXPBOYR+GALAXLHqMl",
      "include_colab_link": true
    },
    "kernelspec": {
      "name": "python3",
      "display_name": "Python 3"
    },
    "language_info": {
      "name": "python"
    }
  },
  "cells": [
    {
      "cell_type": "markdown",
      "metadata": {
        "id": "view-in-github",
        "colab_type": "text"
      },
      "source": [
        "<a href=\"https://colab.research.google.com/github/MarkusColeman/DI/blob/main/CrashCourse_PythonIterables_EX_Lists.ipynb\" target=\"_parent\"><img src=\"https://colab.research.google.com/assets/colab-badge.svg\" alt=\"Open In Colab\"/></a>"
      ]
    },
    {
      "cell_type": "code",
      "execution_count": 20,
      "metadata": {
        "colab": {
          "base_uri": "https://localhost:8080/"
        },
        "id": "Vl7Pgi82WYG_",
        "outputId": "5bc96eb1-8983-41f2-d0b9-81bcd70e31be"
      },
      "outputs": [
        {
          "output_type": "stream",
          "name": "stdout",
          "text": [
            "1\n",
            "2\n",
            "3\n",
            "4\n",
            "20\n",
            "40\n",
            "60\n",
            "80\n",
            "['E', 'T', 'M']\n",
            "[2, 4, 6]\n",
            "{3, 4}\n",
            "['eile', 'mit', 'ttam']\n",
            "['i', 'r', 't']\n",
            "[12, 24, 36, 48, 60, 72, 84, 96]\n",
            "['A', 'm', 'z', 'n', 'g']\n",
            "[[0, 1, 2], [0, 1, 2], [0, 1, 2]]\n",
            "[[0, 1, 2, 3, 4, 5, 6, 7, 8, 9], [0, 1, 2, 3, 4, 5, 6, 7, 8, 9], [0, 1, 2, 3, 4, 5, 6, 7, 8, 9], [0, 1, 2, 3, 4, 5, 6, 7, 8, 9], [0, 1, 2, 3, 4, 5, 6, 7, 8, 9], [0, 1, 2, 3, 4, 5, 6, 7, 8, 9], [0, 1, 2, 3, 4, 5, 6, 7, 8, 9], [0, 1, 2, 3, 4, 5, 6, 7, 8, 9], [0, 1, 2, 3, 4, 5, 6, 7, 8, 9], [0, 1, 2, 3, 4, 5, 6, 7, 8, 9]]\n"
          ]
        }
      ],
      "source": [
        "#(1) Given a list [1, 2, 3, 4], print out all the values in the list one by one.\n",
        "for number in [1, 2, 3, 4]:\n",
        "    print(number)\n",
        "#(2) Given a list [1, 2, 3, 4], print out all the values in the list multiplied by 20.\n",
        "for number in [1, 2, 3, 4]:\n",
        "    print(number * 20)\n",
        "#(3) Given a list [\"Elie\", \"Tim\", \"Matt\"], return a new list with only the first letter of each name: [\"E\", \"T\", \"M\"].\n",
        "names = [\"Elie\", \"Tim\", \"Matt\"]\n",
        "first_letter =[name[0] for name in names]\n",
        "print(first_letter)\n",
        "#(4) Given a list [1, 2, 3, 4, 5, 6], return a new list with all the even values: [2, 4, 6].\n",
        "numbers = [1, 2, 3, 4, 5, 6]\n",
        "even_numbers = [ number for number in numbers if number % 2 ==0]\n",
        "print(even_numbers)\n",
        "#(5) Given two lists [1, 2, 3, 4] and [3, 4, 5, 6], return a new list that contains only the values present in both lists: [3, 4].\n",
        "number_list_1= {1,2,3,4}\n",
        "number_list_2= {3,4,5,6}\n",
        "print(number_list_1.intersection(number_list_2))\n",
        "#(6) Given a list of words [\"Elie\", \"Tim\", \"Matt\"], return a new list with each word reversed and in lowercase: [\"eile\", \"mit\", \"ttam\"].\n",
        "words=[\"Elie\", \"Tim\", \"Matt\"]\n",
        "reversed_words=[word[::-1].lower()for word in words]\n",
        "print(reversed_words)\n",
        "#(7) Given two strings \"first\" and \"third\", return a new list of the letters that are present in both strings: [\"i\", \"r\", \"t\"].\n",
        "set_1= set(\"first\")\n",
        "set_2= set(\"third\")\n",
        "same_leters= sorted(list(set_1.intersection(set_2)))\n",
        "print(same_leters)\n",
        "#(8)For all numbers between 1 and 100, return a list of the numbers that are divisible by 12: [12, 24, 36, 48, 60, 72, 84, 96].\n",
        "list_of_numbers = [num for num in range(1, 101) if num % 12 == 0]\n",
        "print(list_of_numbers)\n",
        "#(9)Given the string \"amazing\", return a list with all the vowels removed: [\"m\", \"z\", \"n\", \"g\"].\n",
        "vowels= [\"a\",\"e\",\"i\",\"o\",\"u\"]\n",
        "string=[]\n",
        "for letter in \"Amazing\":\n",
        "  if letter not in vowels:\n",
        "    string.append(letter)\n",
        "print(string)\n",
        "#(10) Generate a list with the following value: [[0, 1, 2], [0, 1, 2], [0, 1, 2]].\n",
        "original_list= [0,1,2]\n",
        "numz_list = [original_list.copy() for n in range(3)]\n",
        "print(numz_list)\n",
        "#(11) Generate a list with the following structure:\n",
        "\n",
        "[\n",
        "  [0, 1, 2, 3, 4, 5, 6, 7, 8, 9],\n",
        "  [0, 1, 2, 3, 4, 5, 6, 7, 8, 9],\n",
        "  [0, 1, 2, 3, 4, 5, 6, 7, 8, 9],\n",
        "  [0, 1, 2, 3, 4, 5, 6, 7, 8, 9],\n",
        "  [0, 1, 2, 3, 4, 5, 6, 7, 8, 9],\n",
        "  [0, 1, 2, 3, 4, 5, 6, 7, 8, 9],\n",
        "  [0, 1, 2, 3, 4, 5, 6, 7, 8, 9],\n",
        "  [0, 1, 2, 3, 4, 5, 6, 7, 8, 9],\n",
        "  [0, 1, 2, 3, 4, 5, 6, 7, 8, 9],\n",
        "  [0, 1, 2, 3, 4, 5, 6, 7, 8, 9]\n",
        "]\n",
        "\n",
        "original_structure=[0, 1, 2, 3, 4, 5, 6, 7, 8, 9]\n",
        "new_structure=[original_structure.copy() for n in range (10)]\n",
        "print(new_structure)"
      ]
    },
    {
      "cell_type": "markdown",
      "source": [],
      "metadata": {
        "id": "TdGmXEHyWzUh"
      }
    }
  ]
}