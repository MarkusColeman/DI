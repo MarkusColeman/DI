{
  "nbformat": 4,
  "nbformat_minor": 0,
  "metadata": {
    "colab": {
      "provenance": [],
      "authorship_tag": "ABX9TyMrZQkNdGOb84d3KXOqlVPV",
      "include_colab_link": true
    },
    "kernelspec": {
      "name": "python3",
      "display_name": "Python 3"
    },
    "language_info": {
      "name": "python"
    }
  },
  "cells": [
    {
      "cell_type": "markdown",
      "metadata": {
        "id": "view-in-github",
        "colab_type": "text"
      },
      "source": [
        "<a href=\"https://colab.research.google.com/github/MarkusColeman/DI/blob/main/number_guessing_game_py.ipynb\" target=\"_parent\"><img src=\"https://colab.research.google.com/assets/colab-badge.svg\" alt=\"Open In Colab\"/></a>"
      ]
    },
    {
      "cell_type": "code",
      "execution_count": 9,
      "metadata": {
        "colab": {
          "base_uri": "https://localhost:8080/"
        },
        "id": "1XvReFayRaId",
        "outputId": "c48e3927-1b92-4ce3-e08b-d8cb02041eb2"
      },
      "outputs": [
        {
          "output_type": "stream",
          "name": "stdout",
          "text": [
            "Select a number between 1 and 100 10\n",
            "Too low!\n",
            "You have 6 attempts left \n",
            "Select a number between 1 and 100 50\n",
            "Too low!\n",
            "You have 5 attempts left \n",
            "Select a number between 1 and 100 80\n",
            "Too high!\n",
            "You have 4 attempts left \n",
            "Select a number between 1 and 100 70\n",
            "Too high!\n",
            "You have 3 attempts left \n",
            "Select a number between 1 and 100 50\n",
            "Too low!\n",
            "You have 2 attempts left \n",
            "Select a number between 1 and 100 60\n",
            "Too high!\n",
            "You have 1 attempts left \n",
            "Select a number between 1 and 100 55\n",
            "Too low!\n",
            "You have 0 attempts left \n",
            "Sorry, you're out of attempts. The correct number was 56 \n"
          ]
        }
      ],
      "source": [
        "import random\n",
        "# (1) Create a function called number_guessing_game() that contains the main logic of the game.\n",
        "# (2) Inside the function, generate a random number between 1 and 100 using random.randint(1, 100).\n",
        "# (3) Define the maximum number of attempts the player can have, for example, 7.\n",
        "# (4) Use a for loop to give the player a limited number of attempts (7 in this case).\n",
        "# (5) Inside the loop, prompt the player to enter their guess using input(). Convert the input to an integer.\n",
        "# (6)Compare the player’s guess with the random number using if-elif statements. Provide feedback based on the comparison:\n",
        "      # If the guess is too low, print \"Too low!\".\n",
        "      # If the guess is too high, print \"Too high!\".\n",
        "      # If the guess is correct, print a congratulatory message and end the game with break.\n",
        "# (7) If the player doesn’t guess correctly within the allowed attempts, print a message revealing the correct number.\n",
        "\n",
        "def number_guessing_game():\n",
        "  random_number = random.randint(1, 100)\n",
        "  max_attempts = 7\n",
        "  for num in range(max_attempts):\n",
        "    try:\n",
        "      guess = int(input(\"Select a number between 1 and 100 \"))\n",
        "    except ValueError:\n",
        "     print(\"Invalid input! Please enter a valid number\")\n",
        "     continue\n",
        "    if guess < random_number:\n",
        "     print(\"Too low!\")\n",
        "    elif guess > random_number:\n",
        "      print(\"Too high!\")\n",
        "    else:\n",
        "      print(\"Correct! Congratulations! \")\n",
        "      break\n",
        "    print(f\"You have {max_attempts - num - 1} attempts left \")\n",
        "  print(f\"Sorry, you're out of attempts. The correct number was {random_number} \")\n",
        "number_guessing_game()\n"
      ]
    }
  ]
}